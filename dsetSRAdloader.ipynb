{
 "cells": [
  {
   "cell_type": "code",
   "execution_count": 4,
   "id": "0af2d4a5-56b1-41af-ac1b-fd1ee3921640",
   "metadata": {},
   "outputs": [],
   "source": [
    "import pandas as pd\n",
    "import subprocess\n",
    "import os"
   ]
  },
  {
   "cell_type": "code",
   "execution_count": 2,
   "id": "184df235-63f4-40ba-b774-e0dc595d40b0",
   "metadata": {},
   "outputs": [],
   "source": [
    "#define sra nums to dload \n",
    "runFile = pd.read_csv('/home/jrosen5/applied_proj/sandbox/data/RunIds/PD_noON.csv')\n",
    "\n",
    "# Extract the 'Run' column as a list\n",
    "sra_numbers = runFile['Run'].tolist()"
   ]
  },
  {
   "cell_type": "markdown",
   "id": "e8f1dfe3-6cee-421c-b9c3-5634733551e4",
   "metadata": {},
   "source": [
    "Protoype Dsetloader to skip dupes (allows long downloading ops without having to start over"
   ]
  },
  {
   "cell_type": "code",
   "execution_count": 3,
   "id": "03774958-529e-4e77-b45c-025a910fda37",
   "metadata": {},
   "outputs": [
    {
     "name": "stdout",
     "output_type": "stream",
     "text": [
      "Currently downloading: SRR5088813\n",
      "The command used was: prefetch SRR5088813 -O /scratch/jrosen5/applied_proj/sandbox/data/sra_data/SRA_SDreads\n",
      "\n"
     ]
    },
    {
     "ename": "KeyboardInterrupt",
     "evalue": "",
     "output_type": "error",
     "traceback": [
      "\u001b[0;31m---------------------------------------------------------------------------\u001b[0m",
      "\u001b[0;31mKeyboardInterrupt\u001b[0m                         Traceback (most recent call last)",
      "Cell \u001b[0;32mIn[7], line 19\u001b[0m\n\u001b[1;32m     17\u001b[0m prefetch \u001b[38;5;241m=\u001b[39m \u001b[38;5;124mf\u001b[39m\u001b[38;5;124m\"\u001b[39m\u001b[38;5;124mprefetch \u001b[39m\u001b[38;5;132;01m{\u001b[39;00msra_id\u001b[38;5;132;01m}\u001b[39;00m\u001b[38;5;124m -O \u001b[39m\u001b[38;5;132;01m{\u001b[39;00mbase_directory\u001b[38;5;132;01m}\u001b[39;00m\u001b[38;5;124m\"\u001b[39m\n\u001b[1;32m     18\u001b[0m \u001b[38;5;28mprint\u001b[39m(\u001b[38;5;124mf\u001b[39m\u001b[38;5;124m\"\u001b[39m\u001b[38;5;124mThe command used was: \u001b[39m\u001b[38;5;132;01m{\u001b[39;00mprefetch\u001b[38;5;132;01m}\u001b[39;00m\u001b[38;5;124m\"\u001b[39m)\n\u001b[0;32m---> 19\u001b[0m \u001b[43msubprocess\u001b[49m\u001b[38;5;241;43m.\u001b[39;49m\u001b[43mcall\u001b[49m\u001b[43m(\u001b[49m\u001b[43mprefetch\u001b[49m\u001b[43m,\u001b[49m\u001b[43m \u001b[49m\u001b[43mshell\u001b[49m\u001b[38;5;241;43m=\u001b[39;49m\u001b[38;5;28;43;01mTrue\u001b[39;49;00m\u001b[43m)\u001b[49m\n\u001b[1;32m     21\u001b[0m \u001b[38;5;28mprint\u001b[39m(\u001b[38;5;124mf\u001b[39m\u001b[38;5;124m\"\u001b[39m\u001b[38;5;124mGenerating fastq for: \u001b[39m\u001b[38;5;132;01m{\u001b[39;00msra_id\u001b[38;5;132;01m}\u001b[39;00m\u001b[38;5;124m\"\u001b[39m)\n\u001b[1;32m     22\u001b[0m \u001b[38;5;28;01mif\u001b[39;00m \u001b[38;5;129;01mnot\u001b[39;00m os\u001b[38;5;241m.\u001b[39mpath\u001b[38;5;241m.\u001b[39mexists(fastq_dump_dir):\n",
      "File \u001b[0;32m/packages/apps/mamba/1.2.0/lib/python3.10/subprocess.py:347\u001b[0m, in \u001b[0;36mcall\u001b[0;34m(timeout, *popenargs, **kwargs)\u001b[0m\n\u001b[1;32m    345\u001b[0m \u001b[38;5;28;01mwith\u001b[39;00m Popen(\u001b[38;5;241m*\u001b[39mpopenargs, \u001b[38;5;241m*\u001b[39m\u001b[38;5;241m*\u001b[39mkwargs) \u001b[38;5;28;01mas\u001b[39;00m p:\n\u001b[1;32m    346\u001b[0m     \u001b[38;5;28;01mtry\u001b[39;00m:\n\u001b[0;32m--> 347\u001b[0m         \u001b[38;5;28;01mreturn\u001b[39;00m \u001b[43mp\u001b[49m\u001b[38;5;241;43m.\u001b[39;49m\u001b[43mwait\u001b[49m\u001b[43m(\u001b[49m\u001b[43mtimeout\u001b[49m\u001b[38;5;241;43m=\u001b[39;49m\u001b[43mtimeout\u001b[49m\u001b[43m)\u001b[49m\n\u001b[1;32m    348\u001b[0m     \u001b[38;5;28;01mexcept\u001b[39;00m:  \u001b[38;5;66;03m# Including KeyboardInterrupt, wait handled that.\u001b[39;00m\n\u001b[1;32m    349\u001b[0m         p\u001b[38;5;241m.\u001b[39mkill()\n",
      "File \u001b[0;32m/packages/apps/mamba/1.2.0/lib/python3.10/subprocess.py:1209\u001b[0m, in \u001b[0;36mPopen.wait\u001b[0;34m(self, timeout)\u001b[0m\n\u001b[1;32m   1207\u001b[0m     endtime \u001b[38;5;241m=\u001b[39m _time() \u001b[38;5;241m+\u001b[39m timeout\n\u001b[1;32m   1208\u001b[0m \u001b[38;5;28;01mtry\u001b[39;00m:\n\u001b[0;32m-> 1209\u001b[0m     \u001b[38;5;28;01mreturn\u001b[39;00m \u001b[38;5;28;43mself\u001b[39;49m\u001b[38;5;241;43m.\u001b[39;49m\u001b[43m_wait\u001b[49m\u001b[43m(\u001b[49m\u001b[43mtimeout\u001b[49m\u001b[38;5;241;43m=\u001b[39;49m\u001b[43mtimeout\u001b[49m\u001b[43m)\u001b[49m\n\u001b[1;32m   1210\u001b[0m \u001b[38;5;28;01mexcept\u001b[39;00m \u001b[38;5;167;01mKeyboardInterrupt\u001b[39;00m:\n\u001b[1;32m   1211\u001b[0m     \u001b[38;5;66;03m# https://bugs.python.org/issue25942\u001b[39;00m\n\u001b[1;32m   1212\u001b[0m     \u001b[38;5;66;03m# The first keyboard interrupt waits briefly for the child to\u001b[39;00m\n\u001b[1;32m   1213\u001b[0m     \u001b[38;5;66;03m# exit under the common assumption that it also received the ^C\u001b[39;00m\n\u001b[1;32m   1214\u001b[0m     \u001b[38;5;66;03m# generated SIGINT and will exit rapidly.\u001b[39;00m\n\u001b[1;32m   1215\u001b[0m     \u001b[38;5;28;01mif\u001b[39;00m timeout \u001b[38;5;129;01mis\u001b[39;00m \u001b[38;5;129;01mnot\u001b[39;00m \u001b[38;5;28;01mNone\u001b[39;00m:\n",
      "File \u001b[0;32m/packages/apps/mamba/1.2.0/lib/python3.10/subprocess.py:1943\u001b[0m, in \u001b[0;36mPopen._wait\u001b[0;34m(self, timeout)\u001b[0m\n\u001b[1;32m   1941\u001b[0m \u001b[38;5;28;01mif\u001b[39;00m \u001b[38;5;28mself\u001b[39m\u001b[38;5;241m.\u001b[39mreturncode \u001b[38;5;129;01mis\u001b[39;00m \u001b[38;5;129;01mnot\u001b[39;00m \u001b[38;5;28;01mNone\u001b[39;00m:\n\u001b[1;32m   1942\u001b[0m     \u001b[38;5;28;01mbreak\u001b[39;00m  \u001b[38;5;66;03m# Another thread waited.\u001b[39;00m\n\u001b[0;32m-> 1943\u001b[0m (pid, sts) \u001b[38;5;241m=\u001b[39m \u001b[38;5;28;43mself\u001b[39;49m\u001b[38;5;241;43m.\u001b[39;49m\u001b[43m_try_wait\u001b[49m\u001b[43m(\u001b[49m\u001b[38;5;241;43m0\u001b[39;49m\u001b[43m)\u001b[49m\n\u001b[1;32m   1944\u001b[0m \u001b[38;5;66;03m# Check the pid and loop as waitpid has been known to\u001b[39;00m\n\u001b[1;32m   1945\u001b[0m \u001b[38;5;66;03m# return 0 even without WNOHANG in odd situations.\u001b[39;00m\n\u001b[1;32m   1946\u001b[0m \u001b[38;5;66;03m# http://bugs.python.org/issue14396.\u001b[39;00m\n\u001b[1;32m   1947\u001b[0m \u001b[38;5;28;01mif\u001b[39;00m pid \u001b[38;5;241m==\u001b[39m \u001b[38;5;28mself\u001b[39m\u001b[38;5;241m.\u001b[39mpid:\n",
      "File \u001b[0;32m/packages/apps/mamba/1.2.0/lib/python3.10/subprocess.py:1901\u001b[0m, in \u001b[0;36mPopen._try_wait\u001b[0;34m(self, wait_flags)\u001b[0m\n\u001b[1;32m   1899\u001b[0m \u001b[38;5;250m\u001b[39m\u001b[38;5;124;03m\"\"\"All callers to this function MUST hold self._waitpid_lock.\"\"\"\u001b[39;00m\n\u001b[1;32m   1900\u001b[0m \u001b[38;5;28;01mtry\u001b[39;00m:\n\u001b[0;32m-> 1901\u001b[0m     (pid, sts) \u001b[38;5;241m=\u001b[39m \u001b[43mos\u001b[49m\u001b[38;5;241;43m.\u001b[39;49m\u001b[43mwaitpid\u001b[49m\u001b[43m(\u001b[49m\u001b[38;5;28;43mself\u001b[39;49m\u001b[38;5;241;43m.\u001b[39;49m\u001b[43mpid\u001b[49m\u001b[43m,\u001b[49m\u001b[43m \u001b[49m\u001b[43mwait_flags\u001b[49m\u001b[43m)\u001b[49m\n\u001b[1;32m   1902\u001b[0m \u001b[38;5;28;01mexcept\u001b[39;00m \u001b[38;5;167;01mChildProcessError\u001b[39;00m:\n\u001b[1;32m   1903\u001b[0m     \u001b[38;5;66;03m# This happens if SIGCLD is set to be ignored or waiting\u001b[39;00m\n\u001b[1;32m   1904\u001b[0m     \u001b[38;5;66;03m# for child processes has otherwise been disabled for our\u001b[39;00m\n\u001b[1;32m   1905\u001b[0m     \u001b[38;5;66;03m# process.  This child is dead, we can't get the status.\u001b[39;00m\n\u001b[1;32m   1906\u001b[0m     pid \u001b[38;5;241m=\u001b[39m \u001b[38;5;28mself\u001b[39m\u001b[38;5;241m.\u001b[39mpid\n",
      "\u001b[0;31mKeyboardInterrupt\u001b[0m: "
     ]
    }
   ],
   "source": [
    "sandbox_directory = \"/scratch/jrosen5/applied_proj/sandbox/data\"\n",
    "\n",
    "base_directory = f\"{sandbox_directory}/sra_data\"\n",
    "fastq_dump_dir = f\"{sandbox_directory}/PDreads\"\n",
    "\n",
    "\n",
    "# Loop through the SRA accession numbers\n",
    "for sra_id in sra_numbers:\n",
    "    # Build the full path to the SRA file\n",
    "    sra_file_path = f\"{base_directory}/{sra_id}\"\n",
    "    \n",
    "    # Check if the SRA ID exists in either base_directory or fastq_dump_dir\n",
    "    if os.path.exists(sra_file_path) or os.path.exists(f\"{fastq_dump_dir}/{sra_id}.fastq.gz\"):\n",
    "        print(f\"{sra_id} already exists in {base_directory} or {fastq_dump_dir}. Skipping.\")\n",
    "    else:\n",
    "        print(f\"Currently downloading: {sra_id}\")\n",
    "        prefetch = f\"prefetch {sra_id} -O {base_directory}\"\n",
    "        print(f\"The command used was: {prefetch}\")\n",
    "        subprocess.call(prefetch, shell=True)\n",
    "\n",
    "        print(f\"Generating fastq for: {sra_id}\")\n",
    "        if not os.path.exists(fastq_dump_dir):\n",
    "            os.makedirs(fastq_dump_dir)\n",
    "        fastq_dump = f\"fastq-dump --outdir {fastq_dump_dir} --gzip --skip-technical --readids --dumpbase --split-3 --clip {sra_file_path}\"\n",
    "        print(f\"The command used was: {fastq_dump}\")\n",
    "        subprocess.call(fastq_dump, shell=True)"
   ]
  },
  {
   "cell_type": "markdown",
   "id": "6ccbeac4-36e1-494b-983c-2e41b6bca6a4",
   "metadata": {},
   "source": [
    "Dset Dloader for PRCR reads"
   ]
  },
  {
   "cell_type": "code",
   "execution_count": 5,
   "id": "53d03e1d-2f0a-4544-9708-b0a7628e2661",
   "metadata": {},
   "outputs": [],
   "source": [
    "#define sra nums to dload \n",
    "runFileSD = pd.read_csv('/home/jrosen5/applied_proj/sandbox/data/RunIds/PRCR_noON.csv')\n",
    "\n",
    "# Extract the 'Run' column as a list\n",
    "sra_numbersSD = runFileSD['Run'].tolist()"
   ]
  },
  {
   "cell_type": "code",
   "execution_count": 6,
   "id": "6593a638-da3a-438c-afb5-47fa5fe3a3c3",
   "metadata": {},
   "outputs": [
    {
     "name": "stdout",
     "output_type": "stream",
     "text": [
      "SRR5088824 already exists in /scratch/jrosen5/applied_proj/sandbox/data/sra_data/PRCRfiles or /scratch/jrosen5/applied_proj/sandbox/data/PRCRreads. Skipping.\n",
      "SRR5088834 already exists in /scratch/jrosen5/applied_proj/sandbox/data/sra_data/PRCRfiles or /scratch/jrosen5/applied_proj/sandbox/data/PRCRreads. Skipping.\n",
      "SRR5088843 already exists in /scratch/jrosen5/applied_proj/sandbox/data/sra_data/PRCRfiles or /scratch/jrosen5/applied_proj/sandbox/data/PRCRreads. Skipping.\n",
      "SRR5088861 already exists in /scratch/jrosen5/applied_proj/sandbox/data/sra_data/PRCRfiles or /scratch/jrosen5/applied_proj/sandbox/data/PRCRreads. Skipping.\n",
      "SRR5088878 already exists in /scratch/jrosen5/applied_proj/sandbox/data/sra_data/PRCRfiles or /scratch/jrosen5/applied_proj/sandbox/data/PRCRreads. Skipping.\n",
      "SRR5088891 already exists in /scratch/jrosen5/applied_proj/sandbox/data/sra_data/PRCRfiles or /scratch/jrosen5/applied_proj/sandbox/data/PRCRreads. Skipping.\n",
      "SRR5088897 already exists in /scratch/jrosen5/applied_proj/sandbox/data/sra_data/PRCRfiles or /scratch/jrosen5/applied_proj/sandbox/data/PRCRreads. Skipping.\n",
      "SRR5088911 already exists in /scratch/jrosen5/applied_proj/sandbox/data/sra_data/PRCRfiles or /scratch/jrosen5/applied_proj/sandbox/data/PRCRreads. Skipping.\n",
      "SRR5088924 already exists in /scratch/jrosen5/applied_proj/sandbox/data/sra_data/PRCRfiles or /scratch/jrosen5/applied_proj/sandbox/data/PRCRreads. Skipping.\n",
      "Currently downloading: SRR5088929\n",
      "The command used was: prefetch SRR5088929 -O /scratch/jrosen5/applied_proj/sandbox/data/sra_data/PRCRfiles\n",
      "\n"
     ]
    },
    {
     "name": "stderr",
     "output_type": "stream",
     "text": [
      "2023-09-25T18:42:45 prefetch.3.0.6: Current preference is set to retrieve SRA Normalized Format files with full base quality scores.\n",
      "2023-09-25T18:42:45 prefetch.3.0.6: 1) Downloading 'SRR5088929'...\n",
      "2023-09-25T18:42:45 prefetch.3.0.6: SRA Normalized Format file is being retrieved, if this is different from your preference, it may be due to current file availability.\n",
      "2023-09-25T18:42:45 prefetch.3.0.6:  Downloading via HTTPS...\n",
      "2023-09-25T18:44:04 prefetch.3.0.6:  HTTPS download succeed\n",
      "2023-09-25T18:44:12 prefetch.3.0.6:  'SRR5088929' is valid\n",
      "2023-09-25T18:44:12 prefetch.3.0.6: 1) 'SRR5088929' was downloaded successfully\n",
      "2023-09-25T18:44:12 prefetch.3.0.6: 'SRR5088929' has 0 unresolved dependencies\n"
     ]
    },
    {
     "name": "stdout",
     "output_type": "stream",
     "text": [
      "Generating fastq for: SRR5088929\n",
      "The command used was: fastq-dump --outdir /scratch/jrosen5/applied_proj/sandbox/data/PRCRreads --gzip --skip-technical --readids --dumpbase --split-3 --clip /scratch/jrosen5/applied_proj/sandbox/data/sra_data/PRCRfiles/SRR5088929\n",
      "Read 49448678 spots for /scratch/jrosen5/applied_proj/sandbox/data/sra_data/PRCRfiles/SRR5088929\n",
      "Written 49448678 spots for /scratch/jrosen5/applied_proj/sandbox/data/sra_data/PRCRfiles/SRR5088929\n"
     ]
    }
   ],
   "source": [
    "sandbox_directory = \"/scratch/jrosen5/applied_proj/sandbox/data\"\n",
    "\n",
    "base_directory = f\"{sandbox_directory}/sra_data/PRCRfiles\"\n",
    "fastq_dump_dir = f\"{sandbox_directory}/PRCRreads\"\n",
    "\n",
    "\n",
    "# Loop through the SRA accession numbers\n",
    "for sra_id in sra_numbersSD:\n",
    "    # Build the full path to the SRA file\n",
    "    sra_file_path = f\"{base_directory}/{sra_id}\"\n",
    "    \n",
    "    # Check if the SRA ID exists in either base_directory or fastq_dump_dir\n",
    "    if os.path.exists(sra_file_path) or os.path.exists(f\"{fastq_dump_dir}/{sra_id}.fastq.gz\"):\n",
    "        print(f\"{sra_id} already exists in {base_directory} or {fastq_dump_dir}. Skipping.\")\n",
    "    else:\n",
    "        print(f\"Currently downloading: {sra_id}\")\n",
    "        prefetch = f\"prefetch {sra_id} -O {base_directory}\"\n",
    "        print(f\"The command used was: {prefetch}\")\n",
    "        subprocess.call(prefetch, shell=True)\n",
    "\n",
    "        print(f\"Generating fastq for: {sra_id}\")\n",
    "        if not os.path.exists(fastq_dump_dir):\n",
    "            os.makedirs(fastq_dump_dir)\n",
    "        fastq_dump = f\"fastq-dump --outdir {fastq_dump_dir} --gzip --skip-technical --readids --dumpbase --split-3 --clip {sra_file_path}\"\n",
    "        print(f\"The command used was: {fastq_dump}\")\n",
    "        subprocess.call(fastq_dump, shell=True)"
   ]
  },
  {
   "cell_type": "code",
   "execution_count": null,
   "id": "0556c282-1a78-4da1-9c58-cb35301893b0",
   "metadata": {},
   "outputs": [],
   "source": []
  }
 ],
 "metadata": {
  "kernelspec": {
   "display_name": "jupy",
   "language": "python",
   "name": "jupy"
  },
  "language_info": {
   "codemirror_mode": {
    "name": "ipython",
    "version": 3
   },
   "file_extension": ".py",
   "mimetype": "text/x-python",
   "name": "python",
   "nbconvert_exporter": "python",
   "pygments_lexer": "ipython3",
   "version": "3.10.8"
  },
  "toc-autonumbering": true,
  "toc-showmarkdowntxt": false,
  "toc-showtags": false
 },
 "nbformat": 4,
 "nbformat_minor": 5
}
